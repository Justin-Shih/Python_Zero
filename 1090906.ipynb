{
 "cells": [
  {
   "cell_type": "code",
   "execution_count": 2,
   "metadata": {},
   "outputs": [
    {
     "name": "stdout",
     "output_type": "stream",
     "text": [
      "list00 =  ['I', 't', ' ', 'w', 'a', 's', ' ', 't', 'h', 'e', ' ', 'b', 'e', 's', 't', ' ', 'o', 'f', ' ', 't', 'i', 'm', 'e', 's', '.']\n",
      "list01 =  ['It', 'was', 'the', 'best', 'of', 'times.']\n",
      "It\n"
     ]
    }
   ],
   "source": [
    "# -*- coding:utf-8 -*-\n",
    "\n",
    "#Mission 1 字串亦是串列，\n",
    "#宣告字串(string) 變數 \n",
    "#名稱 : motto , \n",
    "#值 : It was the best of times.\n",
    "#分別利用 list() 及 split() 兩個函式，\n",
    "#建立串列(list)變數 名稱 :list00, list01，\n",
    "#並以 print() 函式 顯示結果\n",
    "\n",
    "motto = 'It was the best of times.'\n",
    "list00 = list(motto)\n",
    "list01 = motto.split()\n",
    "\n",
    "print('list00 = ', list00)\n",
    "print('list01 = ', list01)\n",
    "print(list01[0])"
   ]
  },
  {
   "cell_type": "code",
   "execution_count": 21,
   "metadata": {},
   "outputs": [
    {
     "name": "stdout",
     "output_type": "stream",
     "text": [
      "It was the best of times\n",
      "it was the worst of times.\n",
      "It was the best of times, it was the worst of times.\n"
     ]
    }
   ],
   "source": [
    "# Mission 2 尋找、取代與合併\n",
    "#宣告字串變數\n",
    "#名稱 : motto2 , \n",
    "#值 : It was the worst of times.\n",
    "\n",
    "#以 find() 函式尋找 motto 變數中的句點 #並除去該字符；\n",
    "motto2 = 'It was the worst of times.'\n",
    "mf = motto.find('.')\n",
    "ml = len(motto)\n",
    "motto=motto[0:mf]+motto[mf+1:ml]\n",
    "print(motto)\n",
    "\n",
    "#同樣尋找 motto2 的 It，並 利用 replace() 函式 為 ”it”\n",
    "motto2 = motto2.replace('It', 'it')\n",
    "print(motto2)\n",
    "\n",
    "#以motto 為首，利用 join() 函式，輔以字符 \",\" 結合成為新變數 名稱 : motto3\n",
    "motto3 = ', '.join([motto,motto2])\n",
    "print(motto3)"
   ]
  },
  {
   "cell_type": "code",
   "execution_count": 98,
   "metadata": {
    "scrolled": false
   },
   "outputs": [
    {
     "name": "stdout",
     "output_type": "stream",
     "text": [
      "{'way', 'of', 'some', 'was', 'going', 'darkness', 'spring', 'to', 'its', 'degree', 'times', 'short', 'all', 'noisiest', 'superlative', 'belief', 'incredulity', 'we', 'worst', 'period', 'that', 'authorities', 'insisted', 'hope', 'winter', 'heaven', 'other', 'only', 'good', 'like', 'epoch', 'everything', 'far', 'in', 'light', 'best', 'so', 'had', 'wisdom', 'age', 'season', 'were', 'present', 'being', 'evil', 'before', 'the', 'direct', 'received', 'us', 'for', 'or', 'nothing', 'comparison', 'foolishness', 'on', 'despair', 'it'}\n",
      "paragraph 英文字串數(不分大小寫) =  58 \n",
      "\n",
      "{'p', 'c', 'H', 'D', 'v', 'a', 'n', 'L', 'u', 'r', 'l', 'e', 'i', 'k', 'o', 'y', 'h', 'g', 'b', 'd', 'I', 'f', 'm', 't', 's', 'w'} \n",
      " {'p', 'c', 'v', 'a', 'n', 'u', 'r', 'l', 'i', 'e', 'k', 'o', 'y', 'h', 'g', 'b', 'd', 'f', 'm', 't', 's', 'w'} \n",
      "\n",
      "paragraph 英文字母數(分大小寫) = 26 , paragraph 英文字母數(不分大小寫) = 22\n"
     ]
    }
   ],
   "source": [
    "# Mission 3 統計與分類字元\n",
    "#宣告多行型態的字串變數\n",
    "#名稱:paragraph , \n",
    "#值:雙城記第 1 章 I.The Period) 內文的第1~2 段\n",
    "#利用split(),join(),set(),及len 函式來分類與統計paragraph中出現幾種英文字母\n",
    "\n",
    "paragraph  = \"\"\" It was the best of times,\n",
    "it was the worst of times,\n",
    "it was the age of wisdom,\n",
    "it was the age of foolishness,\n",
    "it was the epoch of belief,\n",
    "it was the epoch of incredulity,\n",
    "it was the season of Light,\n",
    "it was the season of Darkness,\n",
    "it was the spring of hope,\n",
    "it was the winter of despair,\n",
    "\n",
    "we had everything before us, we had nothing before us, we were all going direct to Heaven, we were all going direct the other way－ in short, the period was so far like the present period, that some of its noisiest authorities insisted on its being received, for good or for evil, in the superlative degree of comparison only.\n",
    "\"\"\"\n",
    "# 處理非文字部份'－'  '\\n'  ','   '.' \n",
    "p3 = ''.join(list(paragraph.split('－')))\n",
    "p3 = ''.join(list(p3.replace('\\n',' ')))\n",
    "p3 = ''.join(list(p3.split(',')))\n",
    "p3 = ''.join(list(p3.split('.')))\n",
    "p3L = p3.lower()\n",
    "set_p1 = set(p3L.split())\n",
    "print(set_p1)\n",
    "print('paragraph 英文字串數(不分大小寫) = ', len(set_p1), '\\n')\n",
    "\n",
    "\n",
    "# 轉換為小寫\n",
    "p3B=''.join(list(p3.split()))\n",
    "p4 =p3L.split()\n",
    "p4 = ''.join(list(p4))\n",
    "\n",
    "\n",
    "\n",
    "set_p2 = set(list(p3B))\n",
    "set_p3 = set(list(p4))\n",
    "\n",
    "print(set_p2, '\\n', set_p3, '\\n')\n",
    "print('paragraph 英文字母數(分大小寫) = {0} , paragraph 英文字母數(不分大小寫) = {1}'.format(len(set_p2), len(set_p3)))"
   ]
  },
  {
   "cell_type": "code",
   "execution_count": 2,
   "metadata": {},
   "outputs": [
    {
     "name": "stdout",
     "output_type": "stream",
     "text": [
      "paragraph文章中，不分大小寫共有58個字串，內容排序如下 \n",
      " ['age', 'all', 'authorities', 'before', 'being', 'belief', 'best', 'comparison', 'darkness', 'degree', 'despair', 'direct', 'epoch', 'everything', 'evil', 'far', 'foolishness', 'for', 'going', 'good', 'had', 'heaven', 'hope', 'in', 'incredulity', 'insisted', 'it', 'its', 'light', 'like', 'noisiest', 'nothing', 'of', 'on', 'only', 'or', 'other', 'period', 'present', 'received', 'season', 'short', 'so', 'some', 'spring', 'superlative', 'that', 'the', 'times', 'to', 'us', 'was', 'way', 'we', 'were', 'winter', 'wisdom', 'worst']\n",
      "paragraph文章中，共有大小寫26個字母，內容排序如下 \n",
      " ['D', 'H', 'I', 'L', 'a', 'b', 'c', 'd', 'e', 'f', 'g', 'h', 'i', 'k', 'l', 'm', 'n', 'o', 'p', 'r', 's', 't', 'u', 'v', 'w', 'y']\n",
      "paragraph文章中，不分大小寫共有22個字母，內容排序如下 \n",
      " ['a', 'b', 'c', 'd', 'e', 'f', 'g', 'h', 'i', 'k', 'l', 'm', 'n', 'o', 'p', 'r', 's', 't', 'u', 'v', 'w', 'y']\n"
     ]
    }
   ],
   "source": [
    "# Mission 3 統計與分類字元\n",
    "#宣告多行型態的字串變數\n",
    "#名稱:paragraph , \n",
    "#值:雙城記第 1 章 I.The Period) 內文的第1~2 段\n",
    "#利用split(),join(),set(),及len 函式來分類與統計paragraph中出現幾種英文字母\n",
    "\n",
    "paragraph  = \"\"\" It was the best of times,\n",
    "it was the worst of times,\n",
    "it was the age of wisdom,\n",
    "it was the age of foolishness,\n",
    "it was the epoch of belief,\n",
    "it was the epoch of incredulity,\n",
    "it was the season of Light,\n",
    "it was the season of Darkness,\n",
    "it was the spring of hope,\n",
    "it was the winter of despair,\n",
    "\n",
    "we had everything before us, we had nothing before us, we were all going direct to Heaven, we were all going direct the other way－ in short, the period was so far like the present period, that some of its noisiest authorities insisted on its being received, for good or for evil, in the superlative degree of comparison only.\n",
    "\"\"\"\n",
    "#處理大小寫及換行字串\n",
    "paragraph1 = paragraph.lower()\n",
    "paragraph1 = ''.join(list(paragraph1.replace('\\n',' ')))\n",
    "\n",
    "# 以字串方式處理非文字部份'－'  ','   '.' \n",
    "droplist = ['－', ',', '.']\n",
    "for i in droplist:\n",
    "    paragraph1 = ''.join(list(paragraph1.split(i)))\n",
    "\n",
    "set_word = sorted(list(set(paragraph1.split())))\n",
    "print('paragraph文章中，不分大小寫共有{0}個字串，內容排序如下 \\n {1}'.format(len(set_word), set_word))\n",
    "                      \n",
    "# 以字母方式處理非文字部份\n",
    "set_alp = set(list(paragraph))\n",
    "droplist = ['－', ',', '.', ' ', '\\n']\n",
    "for i in droplist:\n",
    "    set_alp.remove(i)\n",
    "set_alphabet1 = sorted(list(set_alp))\n",
    "set_alp2 = ''.join(set_alphabet1).lower()\n",
    "set_alphabet2 = sorted(list(set(set_alp2)))\n",
    "print('paragraph文章中，共有大小寫{0}個字母，內容排序如下 \\n {1}'.format(len(set_alphabet1), set_alphabet1))\n",
    "print('paragraph文章中，不分大小寫共有{0}個字母，內容排序如下 \\n {1}'.format(len(set_alphabet2), set_alphabet2))"
   ]
  },
  {
   "cell_type": "code",
   "execution_count": 36,
   "metadata": {},
   "outputs": [
    {
     "name": "stdout",
     "output_type": "stream",
     "text": [
      "It was the highest of times, it was the slowest of times.\n",
      "It was the slowest of times, it was the highest of times.\n"
     ]
    }
   ],
   "source": [
    "# Mission 4 格式化\n",
    "#宣告字串變數\n",
    "#名稱: s0 , 值 : highest\n",
    "#名稱: s1 , 值 : slowest\n",
    "#設定變數 y0, motto3值為本，利用 format()函式將best與worst位置以 s0, s1 代入\n",
    "s0 = 'highest'\n",
    "s1 = 'slowest'\n",
    "y0 = 'It was the {0} of times, it was the {1} of times.'.format(s0,s1)\n",
    "y1 = 'It was the %s of times, it was the %s of times.'%(s1,s0)\n",
    "print(y0)\n",
    "print(y1)"
   ]
  },
  {
   "cell_type": "code",
   "execution_count": 3,
   "metadata": {},
   "outputs": [],
   "source": [
    "import re"
   ]
  },
  {
   "cell_type": "code",
   "execution_count": 13,
   "metadata": {},
   "outputs": [
    {
     "name": "stdout",
     "output_type": "stream",
     "text": [
      "{'', 'hope', 'period', 'belief', 'only', 'for', 'winter', 'everything', 'going', 'Darkness', 'that', 'us', 'being', 'all', 'were', 'insisted', 'best', 'of', 'wisdom', 'foolishness', 'like', 'its', 'worst', 'season', 'incredulity', 'despair', 'direct', 'in', 'It', 'before', 'noisiest', 'good', 'Heaven', 'we', 'spring', 'epoch', 'was', 'other', 'had', 'degree', 'short', 'nothing', 'to', 'the', 'times', 'received', 'so', 'or', 'it', 'Light', 'superlative', 'comparison', 'some', 'age', 'present', 'far', 'way', 'authorities', 'evil', 'on'}\n"
     ]
    }
   ],
   "source": [
    "print(set(re.split(' |,|－|\\n|\\.', paragraph)))"
   ]
  },
  {
   "cell_type": "code",
   "execution_count": 5,
   "metadata": {},
   "outputs": [
    {
     "data": {
      "text/plain": [
       "' It was the best of times,\\nit was the worst of times,\\nit was the age of wisdom,\\nit was the age of foolishness,\\nit was the epoch of belief,\\nit was the epoch of incredulity,\\nit was the season of Light,\\nit was the season of Darkness,\\nit was the spring of hope,\\nit was the winter of despair,\\n\\nwe had everything before us, we had nothing before us, we were all going direct to Heaven, we were all going direct the other way－ in short, the period was so far like the present period, that some of its noisiest authorities insisted on its being received, for good or for evil, in the superlative degree of comparison only.\\n'"
      ]
     },
     "execution_count": 5,
     "metadata": {},
     "output_type": "execute_result"
    }
   ],
   "source": [
    "paragraph"
   ]
  }
 ],
 "metadata": {
  "kernelspec": {
   "display_name": "Python 3",
   "language": "python",
   "name": "python3"
  },
  "language_info": {
   "codemirror_mode": {
    "name": "ipython",
    "version": 3
   },
   "file_extension": ".py",
   "mimetype": "text/x-python",
   "name": "python",
   "nbconvert_exporter": "python",
   "pygments_lexer": "ipython3",
   "version": "3.7.7"
  }
 },
 "nbformat": 4,
 "nbformat_minor": 4
}
